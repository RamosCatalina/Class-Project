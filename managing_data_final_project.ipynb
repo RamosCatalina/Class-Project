{
 "cells": [
  {
   "cell_type": "code",
   "execution_count": 1,
   "id": "4a118579",
   "metadata": {},
   "outputs": [],
   "source": [
    "#Load all the libraries\n",
    "import wikipedia #Wikipedia API\n",
    "import pandas as pd # library for data analysis\n",
    "import requests # library to handle requests\n",
    "from bs4 import BeautifulSoup # library to parse HTML documents"
   ]
  },
  {
   "cell_type": "code",
   "execution_count": 2,
   "id": "ef36a794",
   "metadata": {},
   "outputs": [],
   "source": [
    "#Function that uses the API to get the url, then scrapes the information and returns a dataframe\n",
    "def search_mountains(x):\n",
    "    wikiurl=wikipedia.page(x).url\n",
    "    table_class=\"wikitable sortable jquery-tablesorter\"\n",
    "    response=requests.get(wikiurl)\n",
    "    soup = BeautifulSoup(response.text, 'html.parser')\n",
    "    mountains=soup.find('table',{'class':\"wikitable\"})\n",
    "    df=pd.read_html(str(mountains))\n",
    "    # convert list to dataframe\n",
    "    df=pd.DataFrame(df[0])\n",
    "    if isinstance(df.columns, pd.core.indexes.multi.MultiIndex):\n",
    "        temp=[]\n",
    "        for i in df.columns:\n",
    "            temp.append(\" \".join(i))\n",
    "        df.columns=temp\n",
    "    return(df)"
   ]
  },
  {
   "cell_type": "code",
   "execution_count": 3,
   "id": "cf01ed0a",
   "metadata": {},
   "outputs": [],
   "source": [
    "#Find the column of the dataframe that contains the name of the mountain\n",
    "def col_name(cols):\n",
    "    col_list=[]\n",
    "    names=[\"peak\",\"mountain\",\"name\",\"summit\"]\n",
    "    i=0\n",
    "    while col_list==[] and i<4:\n",
    "        col_list = [col for col in cols if names[i] in col.lower()]\n",
    "        i+=1\n",
    "    return col_list"
   ]
  },
  {
   "cell_type": "code",
   "execution_count": 4,
   "id": "19c4e09c",
   "metadata": {},
   "outputs": [],
   "source": [
    "#Find the column of the dataframe that contains the elevation of the mountain\n",
    "def col_height(cols):\n",
    "    col_list=[]\n",
    "    names=[\"height\",\"elevation\",\"meters\",\"metres\",\"feet\"]\n",
    "    i=0\n",
    "    while col_list==[] and i<5:\n",
    "        col_list = [col for col in cols if names[i] in col.lower()]\n",
    "        i+=1\n",
    "    if len(col_list)>1 and \"m\" in (\" \".join(col_list)).lower():\n",
    "        col_list = [col for col in col_list if \"m\" in col.lower()]\n",
    "    return col_list"
   ]
  },
  {
   "cell_type": "code",
   "execution_count": 5,
   "id": "3693d8ee",
   "metadata": {},
   "outputs": [],
   "source": [
    "#By using the above functions, it returns the Top 10 Mountains for the selected country.\n",
    "def clean(country):\n",
    "    try:\n",
    "        if country==\"USA\":\n",
    "            df=search_mountains(\"List of mountain peaks of the United States\")\n",
    "        else:\n",
    "            df=search_mountains(\"List of mountains of \"+str(country))\n",
    "        name=col_name(df.columns)[0]\n",
    "        height=col_height(df.columns)[0]\n",
    "        col1=df[name]\n",
    "        feet=0\n",
    "        try:\n",
    "            if re.sub(r'[^a-zA-Z]', '', df[height].iloc[0])[0]==\"f\":\n",
    "                feet=1\n",
    "        except:\n",
    "            if \"f\" in height.lower():\n",
    "                feet=1\n",
    "                    \n",
    "        if feet==1:\n",
    "            col2=round(df[height].astype('str').str.replace(',', '').str.extractall('(\\d+)').unstack().iloc[:,0].astype('int')*0.3048)\n",
    "        else:\n",
    "            col2=df[height].astype('str').str.replace(',', '').str.extractall('(\\d+)').unstack().iloc[:,0].astype('int')\n",
    "        df = pd.concat([col1,col2],axis=1)\n",
    "        df.columns=['Name','Elevation']\n",
    "        df[\"Country\"]=country\n",
    "        df=df.sort_values(by=['Elevation'],ascending=False).head(10)\n",
    "        if df.iloc[0,0]==\"Mount Everest\" and country!=\"Nepal\" and country!=\"China\":\n",
    "            return None\n",
    "        else:\n",
    "            return df\n",
    "    except:\n",
    "        return None"
   ]
  },
  {
   "cell_type": "code",
   "execution_count": null,
   "id": "d3d8e4f8",
   "metadata": {},
   "outputs": [],
   "source": [
    "#Mongo DB\n",
    "from pymongo import MongoClient\n",
    "myclient = MongoClient(\"mongodb://localhost:27017/\") #Create Link\n",
    "db = myclient[\"apan5400\"] #Create database\n",
    "mycol = db[\"Final\"] #Create table\n",
    "countries=[\"Albania\",\"Algeria\",\"Armenia\",\"Austria\",\"Bangladesh\",\"Belize\",\"Bosnia\",\"Bulgaria\",\"Cabo Verde\",\"Canada\",\"Central African Republic\",\"Channel Islands\",\"China\",\"Croatia\",\"Cuba\",\"Denmark\",\"Dominica\",\"Dominican Republic\",\"Ecuador\",\"El Salvador\",\"Estonia\",\"Eswatini\",\"Faroe Islands\",\"Finland\",\"France\",\"Georgia\",\"Germany\",\"Greece\",\"Greenland\",\"Grenada\",\"Guadeloupe\",\"Guatemala\",\"Guinea\",\"Haiti\",\"Honduras\",\"Hungary\",\"Iceland\",\"India\",\"Iran\",\"Ireland\",\"Italy\",\"Japan\",\"Kenya\",\"Lesotho\",\"Liechtenstein\",\"Malaysia\",\"Martinique\",\"Mexico\",\"Nepal\",\"Nicaragua\",\"Norway\",\"Pakistan\",\"Peru\",\"Philippines\",\"Poland\",\"Romania\",\"Saint Lucia\",\"Samoa\",\"Saudi Arabia\",\"Senegal\",\"Serbia\",\"Slovenia\",\"South Africa\",\"Sweden\",\"Trinidad\",\"Ukraine\",\"USA\"]\n",
    "for i in countries:\n",
    "    df=clean(i)\n",
    "    mycol.insert_many(df.to_dict('records')) #Insert the countries in the database"
   ]
  },
  {
   "cell_type": "code",
   "execution_count": null,
   "id": "aae02b7f",
   "metadata": {},
   "outputs": [],
   "source": [
    "#Execute Flask in order to run our application\n",
    "from flask import Flask, request, render_template\n",
    "app = Flask(__name__)\n",
    "@app.route('/')\n",
    "def my_form():\n",
    "    return render_template(\"search.html\")\n",
    "@app.route('/', methods=['POST'])\n",
    "def my_form_post():\n",
    "    val1 = request.form['userinput1']\n",
    "    val2 = request.form['userinput2']\n",
    "    val3 = request.form['userinput3']\n",
    "    val4 = request.form['userinput4']\n",
    "    val5 = request.form['userinput5']\n",
    "    temp=[{\"Country\": val1}]\n",
    "    for i in [val2,val3,val4,val5]:\n",
    "        temp.append({\"Country\": i})\n",
    "    conditions={\"$or\":temp}\n",
    "    query = mycol.find(conditions).sort(\"Elevation\",-1)[0:10]\n",
    "    list_cur = list(query)\n",
    "    output = pd.DataFrame(list_cur).iloc[:,1:]\n",
    "    return render_template('output.html',tables=[output.to_html(classes='data')], titles=output.columns.values)\n",
    "    \n",
    "app.run()\n",
    "if __name__ == \"__main__\":  \n",
    "    app.run(debug=True)"
   ]
  }
 ],
 "metadata": {
  "kernelspec": {
   "display_name": "Python 3 (ipykernel)",
   "language": "python",
   "name": "python3"
  },
  "language_info": {
   "codemirror_mode": {
    "name": "ipython",
    "version": 3
   },
   "file_extension": ".py",
   "mimetype": "text/x-python",
   "name": "python",
   "nbconvert_exporter": "python",
   "pygments_lexer": "ipython3",
   "version": "3.9.7"
  }
 },
 "nbformat": 4,
 "nbformat_minor": 5
}
